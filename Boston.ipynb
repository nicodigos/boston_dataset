{
 "cells": [
  {
   "cell_type": "code",
   "execution_count": 1,
   "id": "1e61fdd8-5e09-403f-8f4c-bc75e5d17018",
   "metadata": {},
   "outputs": [],
   "source": [
    "import polars as pl"
   ]
  },
  {
   "cell_type": "code",
   "execution_count": 6,
   "id": "676baee6-3e15-42b9-95ac-bde2576ca9e6",
   "metadata": {},
   "outputs": [],
   "source": [
    "column_titles = ('CRIM', 'ZN', 'INDUS', 'CHAS', 'NOX', 'RM', 'AGE', 'DIS', 'RAD', 'TAX', 'PTRATIO', 'B', 'LSTAT', 'MEDV')"
   ]
  },
  {
   "cell_type": "code",
   "execution_count": 32,
   "id": "223aac58-e5fb-4cd6-977e-e19605979be3",
   "metadata": {},
   "outputs": [],
   "source": [
    "df = pl.read_csv(\"datasets/housing.csv\", has_header=False, new_columns=column_titles)"
   ]
  },
  {
   "cell_type": "code",
   "execution_count": 33,
   "id": "adcc542f-c3d5-469a-bc9b-4fe1b509e221",
   "metadata": {},
   "outputs": [
    {
     "data": {
      "text/html": [
       "<div><style>\n",
       ".dataframe > thead > tr,\n",
       ".dataframe > tbody > tr {\n",
       "  text-align: right;\n",
       "  white-space: pre-wrap;\n",
       "}\n",
       "</style>\n",
       "<small>shape: (5, 14)</small><table border=\"1\" class=\"dataframe\"><thead><tr><th>CRIM</th><th>ZN</th><th>INDUS</th><th>CHAS</th><th>NOX</th><th>RM</th><th>AGE</th><th>DIS</th><th>RAD</th><th>TAX</th><th>PTRATIO</th><th>B</th><th>LSTAT</th><th>MEDV</th></tr><tr><td>f64</td><td>str</td><td>str</td><td>str</td><td>str</td><td>str</td><td>str</td><td>str</td><td>str</td><td>str</td><td>str</td><td>str</td><td>str</td><td>str</td></tr></thead><tbody><tr><td>0.00632</td><td>&quot; 18.00&quot;</td><td>&quot; 2.310&quot;</td><td>&quot; 0&quot;</td><td>&quot; 0.5380&quot;</td><td>&quot; 6.5750&quot;</td><td>&quot; 65.20&quot;</td><td>&quot; 4.0900&quot;</td><td>&quot; 1&quot;</td><td>&quot; 296.0&quot;</td><td>&quot; 15.30&quot;</td><td>&quot; 396.90&quot;</td><td>&quot; 4.98&quot;</td><td>&quot; 24.00&quot;</td></tr><tr><td>0.02731</td><td>&quot; 0.00&quot;</td><td>&quot; 7.070&quot;</td><td>&quot; 0&quot;</td><td>&quot; 0.4690&quot;</td><td>&quot; 6.4210&quot;</td><td>&quot; 78.90&quot;</td><td>&quot; 4.9671&quot;</td><td>&quot; 2&quot;</td><td>&quot; 242.0&quot;</td><td>&quot; 17.80&quot;</td><td>&quot; 396.90&quot;</td><td>&quot; 9.14&quot;</td><td>&quot; 21.60&quot;</td></tr><tr><td>0.02729</td><td>&quot; 0.00&quot;</td><td>&quot; 7.070&quot;</td><td>&quot; 0&quot;</td><td>&quot; 0.4690&quot;</td><td>&quot; 7.1850&quot;</td><td>&quot; 61.10&quot;</td><td>&quot; 4.9671&quot;</td><td>&quot; 2&quot;</td><td>&quot; 242.0&quot;</td><td>&quot; 17.80&quot;</td><td>&quot; 392.83&quot;</td><td>&quot; 4.03&quot;</td><td>&quot; 34.70&quot;</td></tr><tr><td>0.03237</td><td>&quot; 0.00&quot;</td><td>&quot; 2.180&quot;</td><td>&quot; 0&quot;</td><td>&quot; 0.4580&quot;</td><td>&quot; 6.9980&quot;</td><td>&quot; 45.80&quot;</td><td>&quot; 6.0622&quot;</td><td>&quot; 3&quot;</td><td>&quot; 222.0&quot;</td><td>&quot; 18.70&quot;</td><td>&quot; 394.63&quot;</td><td>&quot; 2.94&quot;</td><td>&quot; 33.40&quot;</td></tr><tr><td>0.06905</td><td>&quot; 0.00&quot;</td><td>&quot; 2.180&quot;</td><td>&quot; 0&quot;</td><td>&quot; 0.4580&quot;</td><td>&quot; 7.1470&quot;</td><td>&quot; 54.20&quot;</td><td>&quot; 6.0622&quot;</td><td>&quot; 3&quot;</td><td>&quot; 222.0&quot;</td><td>&quot; 18.70&quot;</td><td>&quot; 396.90&quot;</td><td>&quot; 5.33&quot;</td><td>&quot; 36.20&quot;</td></tr></tbody></table></div>"
      ],
      "text/plain": [
       "shape: (5, 14)\n",
       "┌─────────┬────────┬────────┬──────┬───┬─────────┬─────────┬───────┬────────┐\n",
       "│ CRIM    ┆ ZN     ┆ INDUS  ┆ CHAS ┆ … ┆ PTRATIO ┆ B       ┆ LSTAT ┆ MEDV   │\n",
       "│ ---     ┆ ---    ┆ ---    ┆ ---  ┆   ┆ ---     ┆ ---     ┆ ---   ┆ ---    │\n",
       "│ f64     ┆ str    ┆ str    ┆ str  ┆   ┆ str     ┆ str     ┆ str   ┆ str    │\n",
       "╞═════════╪════════╪════════╪══════╪═══╪═════════╪═════════╪═══════╪════════╡\n",
       "│ 0.00632 ┆  18.00 ┆  2.310 ┆  0   ┆ … ┆  15.30  ┆  396.90 ┆  4.98 ┆  24.00 │\n",
       "│ 0.02731 ┆  0.00  ┆  7.070 ┆  0   ┆ … ┆  17.80  ┆  396.90 ┆  9.14 ┆  21.60 │\n",
       "│ 0.02729 ┆  0.00  ┆  7.070 ┆  0   ┆ … ┆  17.80  ┆  392.83 ┆  4.03 ┆  34.70 │\n",
       "│ 0.03237 ┆  0.00  ┆  2.180 ┆  0   ┆ … ┆  18.70  ┆  394.63 ┆  2.94 ┆  33.40 │\n",
       "│ 0.06905 ┆  0.00  ┆  2.180 ┆  0   ┆ … ┆  18.70  ┆  396.90 ┆  5.33 ┆  36.20 │\n",
       "└─────────┴────────┴────────┴──────┴───┴─────────┴─────────┴───────┴────────┘"
      ]
     },
     "execution_count": 33,
     "metadata": {},
     "output_type": "execute_result"
    }
   ],
   "source": [
    "df.head()"
   ]
  },
  {
   "cell_type": "code",
   "execution_count": 34,
   "id": "3558890f-feaa-48c8-b523-1db3171838ac",
   "metadata": {},
   "outputs": [
    {
     "data": {
      "text/plain": [
       "(506, 14)"
      ]
     },
     "execution_count": 34,
     "metadata": {},
     "output_type": "execute_result"
    }
   ],
   "source": [
    "df.shape"
   ]
  },
  {
   "cell_type": "code",
   "execution_count": 35,
   "id": "43e25f1a-6c9d-4b6d-937d-fda6b62c2bf8",
   "metadata": {},
   "outputs": [
    {
     "data": {
      "text/html": [
       "<div><style>\n",
       ".dataframe > thead > tr,\n",
       ".dataframe > tbody > tr {\n",
       "  text-align: right;\n",
       "  white-space: pre-wrap;\n",
       "}\n",
       "</style>\n",
       "<small>shape: (5, 2)</small><table border=\"1\" class=\"dataframe\"><thead><tr><th>CRIM</th><th>ZN</th></tr><tr><td>f64</td><td>str</td></tr></thead><tbody><tr><td>0.00632</td><td>&quot; 18.00&quot;</td></tr><tr><td>0.02731</td><td>&quot; 0.00&quot;</td></tr><tr><td>0.02729</td><td>&quot; 0.00&quot;</td></tr><tr><td>0.03237</td><td>&quot; 0.00&quot;</td></tr><tr><td>0.06905</td><td>&quot; 0.00&quot;</td></tr></tbody></table></div>"
      ],
      "text/plain": [
       "shape: (5, 2)\n",
       "┌─────────┬────────┐\n",
       "│ CRIM    ┆ ZN     │\n",
       "│ ---     ┆ ---    │\n",
       "│ f64     ┆ str    │\n",
       "╞═════════╪════════╡\n",
       "│ 0.00632 ┆  18.00 │\n",
       "│ 0.02731 ┆  0.00  │\n",
       "│ 0.02729 ┆  0.00  │\n",
       "│ 0.03237 ┆  0.00  │\n",
       "│ 0.06905 ┆  0.00  │\n",
       "└─────────┴────────┘"
      ]
     },
     "execution_count": 35,
     "metadata": {},
     "output_type": "execute_result"
    }
   ],
   "source": [
    "df.select(pl.col(\"CRIM\", 'ZN')).head()"
   ]
  },
  {
   "cell_type": "code",
   "execution_count": 36,
   "id": "1c1f89c4-cf31-4af0-baf9-9de81b441f75",
   "metadata": {},
   "outputs": [
    {
     "data": {
      "text/html": [
       "<div><style>\n",
       ".dataframe > thead > tr,\n",
       ".dataframe > tbody > tr {\n",
       "  text-align: right;\n",
       "  white-space: pre-wrap;\n",
       "}\n",
       "</style>\n",
       "<small>shape: (5, 2)</small><table border=\"1\" class=\"dataframe\"><thead><tr><th>CRIM</th><th>ZN</th></tr><tr><td>f64</td><td>str</td></tr></thead><tbody><tr><td>0.00632</td><td>&quot; 18.00&quot;</td></tr><tr><td>0.02731</td><td>&quot; 0.00&quot;</td></tr><tr><td>0.02729</td><td>&quot; 0.00&quot;</td></tr><tr><td>0.03237</td><td>&quot; 0.00&quot;</td></tr><tr><td>0.06905</td><td>&quot; 0.00&quot;</td></tr></tbody></table></div>"
      ],
      "text/plain": [
       "shape: (5, 2)\n",
       "┌─────────┬────────┐\n",
       "│ CRIM    ┆ ZN     │\n",
       "│ ---     ┆ ---    │\n",
       "│ f64     ┆ str    │\n",
       "╞═════════╪════════╡\n",
       "│ 0.00632 ┆  18.00 │\n",
       "│ 0.02731 ┆  0.00  │\n",
       "│ 0.02729 ┆  0.00  │\n",
       "│ 0.03237 ┆  0.00  │\n",
       "│ 0.06905 ┆  0.00  │\n",
       "└─────────┴────────┘"
      ]
     },
     "execution_count": 36,
     "metadata": {},
     "output_type": "execute_result"
    }
   ],
   "source": [
    "df[[\"CRIM\", 'ZN']].head()"
   ]
  },
  {
   "cell_type": "code",
   "execution_count": 37,
   "id": "6668e33a-47be-44ab-af79-79fd3386a248",
   "metadata": {},
   "outputs": [
    {
     "data": {
      "text/html": [
       "<div><style>\n",
       ".dataframe > thead > tr,\n",
       ".dataframe > tbody > tr {\n",
       "  text-align: right;\n",
       "  white-space: pre-wrap;\n",
       "}\n",
       "</style>\n",
       "<small>shape: (212, 14)</small><table border=\"1\" class=\"dataframe\"><thead><tr><th>CRIM</th><th>ZN</th><th>INDUS</th><th>CHAS</th><th>NOX</th><th>RM</th><th>AGE</th><th>DIS</th><th>RAD</th><th>TAX</th><th>PTRATIO</th><th>B</th><th>LSTAT</th><th>MEDV</th></tr><tr><td>f64</td><td>str</td><td>str</td><td>str</td><td>str</td><td>str</td><td>str</td><td>str</td><td>str</td><td>str</td><td>str</td><td>str</td><td>str</td><td>str</td></tr></thead><tbody><tr><td>0.62976</td><td>&quot; 0.00&quot;</td><td>&quot; 8.140&quot;</td><td>&quot; 0&quot;</td><td>&quot; 0.5380&quot;</td><td>&quot; 5.9490&quot;</td><td>&quot; 61.80&quot;</td><td>&quot; 4.7075&quot;</td><td>&quot; 4&quot;</td><td>&quot; 307.0&quot;</td><td>&quot; 21.00&quot;</td><td>&quot; 396.90&quot;</td><td>&quot; 8.26&quot;</td><td>&quot; 20.40&quot;</td></tr><tr><td>0.63796</td><td>&quot; 0.00&quot;</td><td>&quot; 8.140&quot;</td><td>&quot; 0&quot;</td><td>&quot; 0.5380&quot;</td><td>&quot; 6.0960&quot;</td><td>&quot; 84.50&quot;</td><td>&quot; 4.4619&quot;</td><td>&quot; 4&quot;</td><td>&quot; 307.0&quot;</td><td>&quot; 21.00&quot;</td><td>&quot; 380.02&quot;</td><td>&quot; 10.26&quot;</td><td>&quot; 18.20&quot;</td></tr><tr><td>0.62739</td><td>&quot; 0.00&quot;</td><td>&quot; 8.140&quot;</td><td>&quot; 0&quot;</td><td>&quot; 0.5380&quot;</td><td>&quot; 5.8340&quot;</td><td>&quot; 56.50&quot;</td><td>&quot; 4.4986&quot;</td><td>&quot; 4&quot;</td><td>&quot; 307.0&quot;</td><td>&quot; 21.00&quot;</td><td>&quot; 395.62&quot;</td><td>&quot; 8.47&quot;</td><td>&quot; 19.90&quot;</td></tr><tr><td>1.05393</td><td>&quot; 0.00&quot;</td><td>&quot; 8.140&quot;</td><td>&quot; 0&quot;</td><td>&quot; 0.5380&quot;</td><td>&quot; 5.9350&quot;</td><td>&quot; 29.30&quot;</td><td>&quot; 4.4986&quot;</td><td>&quot; 4&quot;</td><td>&quot; 307.0&quot;</td><td>&quot; 21.00&quot;</td><td>&quot; 386.85&quot;</td><td>&quot; 6.58&quot;</td><td>&quot; 23.10&quot;</td></tr><tr><td>0.7842</td><td>&quot; 0.00&quot;</td><td>&quot; 8.140&quot;</td><td>&quot; 0&quot;</td><td>&quot; 0.5380&quot;</td><td>&quot; 5.9900&quot;</td><td>&quot; 81.70&quot;</td><td>&quot; 4.2579&quot;</td><td>&quot; 4&quot;</td><td>&quot; 307.0&quot;</td><td>&quot; 21.00&quot;</td><td>&quot; 386.75&quot;</td><td>&quot; 14.67&quot;</td><td>&quot; 17.50&quot;</td></tr><tr><td>&hellip;</td><td>&hellip;</td><td>&hellip;</td><td>&hellip;</td><td>&hellip;</td><td>&hellip;</td><td>&hellip;</td><td>&hellip;</td><td>&hellip;</td><td>&hellip;</td><td>&hellip;</td><td>&hellip;</td><td>&hellip;</td><td>&hellip;</td></tr><tr><td>2.81838</td><td>&quot; 0.00&quot;</td><td>&quot; 18.100&quot;</td><td>&quot; 0&quot;</td><td>&quot; 0.5320&quot;</td><td>&quot; 5.7620&quot;</td><td>&quot; 40.30&quot;</td><td>&quot; 4.0983&quot;</td><td>&quot; 24&quot;</td><td>&quot; 666.0&quot;</td><td>&quot; 20.20&quot;</td><td>&quot; 392.92&quot;</td><td>&quot; 10.42&quot;</td><td>&quot; 21.80&quot;</td></tr><tr><td>2.37857</td><td>&quot; 0.00&quot;</td><td>&quot; 18.100&quot;</td><td>&quot; 0&quot;</td><td>&quot; 0.5830&quot;</td><td>&quot; 5.8710&quot;</td><td>&quot; 41.90&quot;</td><td>&quot; 3.7240&quot;</td><td>&quot; 24&quot;</td><td>&quot; 666.0&quot;</td><td>&quot; 20.20&quot;</td><td>&quot; 370.73&quot;</td><td>&quot; 13.34&quot;</td><td>&quot; 20.60&quot;</td></tr><tr><td>3.67367</td><td>&quot; 0.00&quot;</td><td>&quot; 18.100&quot;</td><td>&quot; 0&quot;</td><td>&quot; 0.5830&quot;</td><td>&quot; 6.3120&quot;</td><td>&quot; 51.90&quot;</td><td>&quot; 3.9917&quot;</td><td>&quot; 24&quot;</td><td>&quot; 666.0&quot;</td><td>&quot; 20.20&quot;</td><td>&quot; 388.62&quot;</td><td>&quot; 10.58&quot;</td><td>&quot; 21.20&quot;</td></tr><tr><td>5.69175</td><td>&quot; 0.00&quot;</td><td>&quot; 18.100&quot;</td><td>&quot; 0&quot;</td><td>&quot; 0.5830&quot;</td><td>&quot; 6.1140&quot;</td><td>&quot; 79.80&quot;</td><td>&quot; 3.5459&quot;</td><td>&quot; 24&quot;</td><td>&quot; 666.0&quot;</td><td>&quot; 20.20&quot;</td><td>&quot; 392.68&quot;</td><td>&quot; 14.98&quot;</td><td>&quot; 19.10&quot;</td></tr><tr><td>4.83567</td><td>&quot; 0.00&quot;</td><td>&quot; 18.100&quot;</td><td>&quot; 0&quot;</td><td>&quot; 0.5830&quot;</td><td>&quot; 5.9050&quot;</td><td>&quot; 53.20&quot;</td><td>&quot; 3.1523&quot;</td><td>&quot; 24&quot;</td><td>&quot; 666.0&quot;</td><td>&quot; 20.20&quot;</td><td>&quot; 388.22&quot;</td><td>&quot; 11.45&quot;</td><td>&quot; 20.60&quot;</td></tr></tbody></table></div>"
      ],
      "text/plain": [
       "shape: (212, 14)\n",
       "┌─────────┬───────┬─────────┬──────┬───┬─────────┬─────────┬────────┬────────┐\n",
       "│ CRIM    ┆ ZN    ┆ INDUS   ┆ CHAS ┆ … ┆ PTRATIO ┆ B       ┆ LSTAT  ┆ MEDV   │\n",
       "│ ---     ┆ ---   ┆ ---     ┆ ---  ┆   ┆ ---     ┆ ---     ┆ ---    ┆ ---    │\n",
       "│ f64     ┆ str   ┆ str     ┆ str  ┆   ┆ str     ┆ str     ┆ str    ┆ str    │\n",
       "╞═════════╪═══════╪═════════╪══════╪═══╪═════════╪═════════╪════════╪════════╡\n",
       "│ 0.62976 ┆  0.00 ┆  8.140  ┆  0   ┆ … ┆  21.00  ┆  396.90 ┆  8.26  ┆  20.40 │\n",
       "│ 0.63796 ┆  0.00 ┆  8.140  ┆  0   ┆ … ┆  21.00  ┆  380.02 ┆  10.26 ┆  18.20 │\n",
       "│ 0.62739 ┆  0.00 ┆  8.140  ┆  0   ┆ … ┆  21.00  ┆  395.62 ┆  8.47  ┆  19.90 │\n",
       "│ 1.05393 ┆  0.00 ┆  8.140  ┆  0   ┆ … ┆  21.00  ┆  386.85 ┆  6.58  ┆  23.10 │\n",
       "│ 0.7842  ┆  0.00 ┆  8.140  ┆  0   ┆ … ┆  21.00  ┆  386.75 ┆  14.67 ┆  17.50 │\n",
       "│ …       ┆ …     ┆ …       ┆ …    ┆ … ┆ …       ┆ …       ┆ …      ┆ …      │\n",
       "│ 2.81838 ┆  0.00 ┆  18.100 ┆  0   ┆ … ┆  20.20  ┆  392.92 ┆  10.42 ┆  21.80 │\n",
       "│ 2.37857 ┆  0.00 ┆  18.100 ┆  0   ┆ … ┆  20.20  ┆  370.73 ┆  13.34 ┆  20.60 │\n",
       "│ 3.67367 ┆  0.00 ┆  18.100 ┆  0   ┆ … ┆  20.20  ┆  388.62 ┆  10.58 ┆  21.20 │\n",
       "│ 5.69175 ┆  0.00 ┆  18.100 ┆  0   ┆ … ┆  20.20  ┆  392.68 ┆  14.98 ┆  19.10 │\n",
       "│ 4.83567 ┆  0.00 ┆  18.100 ┆  0   ┆ … ┆  20.20  ┆  388.22 ┆  11.45 ┆  20.60 │\n",
       "└─────────┴───────┴─────────┴──────┴───┴─────────┴─────────┴────────┴────────┘"
      ]
     },
     "execution_count": 37,
     "metadata": {},
     "output_type": "execute_result"
    }
   ],
   "source": [
    "df.filter((pl.col(\"CRIM\") > 0.5))"
   ]
  },
  {
   "cell_type": "code",
   "execution_count": null,
   "id": "8f3cdd36-e605-4412-aa54-e784df51b7f5",
   "metadata": {},
   "outputs": [],
   "source": []
  }
 ],
 "metadata": {
  "kernelspec": {
   "display_name": "Python 3 (ipykernel)",
   "language": "python",
   "name": "python3"
  },
  "language_info": {
   "codemirror_mode": {
    "name": "ipython",
    "version": 3
   },
   "file_extension": ".py",
   "mimetype": "text/x-python",
   "name": "python",
   "nbconvert_exporter": "python",
   "pygments_lexer": "ipython3",
   "version": "3.11.9"
  }
 },
 "nbformat": 4,
 "nbformat_minor": 5
}
