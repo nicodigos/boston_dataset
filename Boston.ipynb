{
 "cells": [
  {
   "cell_type": "code",
   "execution_count": 1,
   "id": "1e61fdd8-5e09-403f-8f4c-bc75e5d17018",
   "metadata": {},
   "outputs": [],
   "source": [
    "import polars as pl"
   ]
  },
  {
   "cell_type": "code",
   "execution_count": 6,
   "id": "676baee6-3e15-42b9-95ac-bde2576ca9e6",
   "metadata": {},
   "outputs": [],
   "source": [
    "column_titles = ('CRIM', 'ZN', 'INDUS', 'CHAS', 'NOX', 'RM', 'AGE', 'DIS', 'RAD', 'TAX', 'PTRATIO', 'B', 'LSTAT', 'MEDV')"
   ]
  },
  {
   "cell_type": "code",
   "execution_count": 12,
   "id": "223aac58-e5fb-4cd6-977e-e19605979be3",
   "metadata": {},
   "outputs": [],
   "source": [
    "df = pl.read_csv(\"housing.csv\", has_header=False, new_columns=column_titles)"
   ]
  },
  {
   "cell_type": "code",
   "execution_count": 16,
   "id": "adcc542f-c3d5-469a-bc9b-4fe1b509e221",
   "metadata": {},
   "outputs": [
    {
     "data": {
      "text/html": [
       "<div><style>\n",
       ".dataframe > thead > tr,\n",
       ".dataframe > tbody > tr {\n",
       "  text-align: right;\n",
       "  white-space: pre-wrap;\n",
       "}\n",
       "</style>\n",
       "<small>shape: (5, 14)</small><table border=\"1\" class=\"dataframe\"><thead><tr><th>CRIM</th><th>ZN</th><th>INDUS</th><th>CHAS</th><th>NOX</th><th>RM</th><th>AGE</th><th>DIS</th><th>RAD</th><th>TAX</th><th>PTRATIO</th><th>B</th><th>LSTAT</th><th>MEDV</th></tr><tr><td>f64</td><td>str</td><td>str</td><td>str</td><td>str</td><td>str</td><td>str</td><td>str</td><td>str</td><td>str</td><td>str</td><td>str</td><td>str</td><td>str</td></tr></thead><tbody><tr><td>0.00632</td><td>&quot; 18.00&quot;</td><td>&quot; 2.310&quot;</td><td>&quot; 0&quot;</td><td>&quot; 0.5380&quot;</td><td>&quot; 6.5750&quot;</td><td>&quot; 65.20&quot;</td><td>&quot; 4.0900&quot;</td><td>&quot; 1&quot;</td><td>&quot; 296.0&quot;</td><td>&quot; 15.30&quot;</td><td>&quot; 396.90&quot;</td><td>&quot; 4.98&quot;</td><td>&quot; 24.00&quot;</td></tr><tr><td>0.02731</td><td>&quot; 0.00&quot;</td><td>&quot; 7.070&quot;</td><td>&quot; 0&quot;</td><td>&quot; 0.4690&quot;</td><td>&quot; 6.4210&quot;</td><td>&quot; 78.90&quot;</td><td>&quot; 4.9671&quot;</td><td>&quot; 2&quot;</td><td>&quot; 242.0&quot;</td><td>&quot; 17.80&quot;</td><td>&quot; 396.90&quot;</td><td>&quot; 9.14&quot;</td><td>&quot; 21.60&quot;</td></tr><tr><td>0.02729</td><td>&quot; 0.00&quot;</td><td>&quot; 7.070&quot;</td><td>&quot; 0&quot;</td><td>&quot; 0.4690&quot;</td><td>&quot; 7.1850&quot;</td><td>&quot; 61.10&quot;</td><td>&quot; 4.9671&quot;</td><td>&quot; 2&quot;</td><td>&quot; 242.0&quot;</td><td>&quot; 17.80&quot;</td><td>&quot; 392.83&quot;</td><td>&quot; 4.03&quot;</td><td>&quot; 34.70&quot;</td></tr><tr><td>0.03237</td><td>&quot; 0.00&quot;</td><td>&quot; 2.180&quot;</td><td>&quot; 0&quot;</td><td>&quot; 0.4580&quot;</td><td>&quot; 6.9980&quot;</td><td>&quot; 45.80&quot;</td><td>&quot; 6.0622&quot;</td><td>&quot; 3&quot;</td><td>&quot; 222.0&quot;</td><td>&quot; 18.70&quot;</td><td>&quot; 394.63&quot;</td><td>&quot; 2.94&quot;</td><td>&quot; 33.40&quot;</td></tr><tr><td>0.06905</td><td>&quot; 0.00&quot;</td><td>&quot; 2.180&quot;</td><td>&quot; 0&quot;</td><td>&quot; 0.4580&quot;</td><td>&quot; 7.1470&quot;</td><td>&quot; 54.20&quot;</td><td>&quot; 6.0622&quot;</td><td>&quot; 3&quot;</td><td>&quot; 222.0&quot;</td><td>&quot; 18.70&quot;</td><td>&quot; 396.90&quot;</td><td>&quot; 5.33&quot;</td><td>&quot; 36.20&quot;</td></tr></tbody></table></div>"
      ],
      "text/plain": [
       "shape: (5, 14)\n",
       "┌─────────┬────────┬────────┬──────┬───┬─────────┬─────────┬───────┬────────┐\n",
       "│ CRIM    ┆ ZN     ┆ INDUS  ┆ CHAS ┆ … ┆ PTRATIO ┆ B       ┆ LSTAT ┆ MEDV   │\n",
       "│ ---     ┆ ---    ┆ ---    ┆ ---  ┆   ┆ ---     ┆ ---     ┆ ---   ┆ ---    │\n",
       "│ f64     ┆ str    ┆ str    ┆ str  ┆   ┆ str     ┆ str     ┆ str   ┆ str    │\n",
       "╞═════════╪════════╪════════╪══════╪═══╪═════════╪═════════╪═══════╪════════╡\n",
       "│ 0.00632 ┆  18.00 ┆  2.310 ┆  0   ┆ … ┆  15.30  ┆  396.90 ┆  4.98 ┆  24.00 │\n",
       "│ 0.02731 ┆  0.00  ┆  7.070 ┆  0   ┆ … ┆  17.80  ┆  396.90 ┆  9.14 ┆  21.60 │\n",
       "│ 0.02729 ┆  0.00  ┆  7.070 ┆  0   ┆ … ┆  17.80  ┆  392.83 ┆  4.03 ┆  34.70 │\n",
       "│ 0.03237 ┆  0.00  ┆  2.180 ┆  0   ┆ … ┆  18.70  ┆  394.63 ┆  2.94 ┆  33.40 │\n",
       "│ 0.06905 ┆  0.00  ┆  2.180 ┆  0   ┆ … ┆  18.70  ┆  396.90 ┆  5.33 ┆  36.20 │\n",
       "└─────────┴────────┴────────┴──────┴───┴─────────┴─────────┴───────┴────────┘"
      ]
     },
     "execution_count": 16,
     "metadata": {},
     "output_type": "execute_result"
    }
   ],
   "source": [
    "df.head()"
   ]
  },
  {
   "cell_type": "code",
   "execution_count": 17,
   "id": "3558890f-feaa-48c8-b523-1db3171838ac",
   "metadata": {},
   "outputs": [
    {
     "data": {
      "text/plain": [
       "(506, 14)"
      ]
     },
     "execution_count": 17,
     "metadata": {},
     "output_type": "execute_result"
    }
   ],
   "source": [
    "df.shape"
   ]
  },
  {
   "cell_type": "code",
   "execution_count": 23,
   "id": "43e25f1a-6c9d-4b6d-937d-fda6b62c2bf8",
   "metadata": {},
   "outputs": [
    {
     "data": {
      "text/html": [
       "<div><style>\n",
       ".dataframe > thead > tr,\n",
       ".dataframe > tbody > tr {\n",
       "  text-align: right;\n",
       "  white-space: pre-wrap;\n",
       "}\n",
       "</style>\n",
       "<small>shape: (5, 2)</small><table border=\"1\" class=\"dataframe\"><thead><tr><th>CRIM</th><th>ZN</th></tr><tr><td>f64</td><td>str</td></tr></thead><tbody><tr><td>0.00632</td><td>&quot; 18.00&quot;</td></tr><tr><td>0.02731</td><td>&quot; 0.00&quot;</td></tr><tr><td>0.02729</td><td>&quot; 0.00&quot;</td></tr><tr><td>0.03237</td><td>&quot; 0.00&quot;</td></tr><tr><td>0.06905</td><td>&quot; 0.00&quot;</td></tr></tbody></table></div>"
      ],
      "text/plain": [
       "shape: (5, 2)\n",
       "┌─────────┬────────┐\n",
       "│ CRIM    ┆ ZN     │\n",
       "│ ---     ┆ ---    │\n",
       "│ f64     ┆ str    │\n",
       "╞═════════╪════════╡\n",
       "│ 0.00632 ┆  18.00 │\n",
       "│ 0.02731 ┆  0.00  │\n",
       "│ 0.02729 ┆  0.00  │\n",
       "│ 0.03237 ┆  0.00  │\n",
       "│ 0.06905 ┆  0.00  │\n",
       "└─────────┴────────┘"
      ]
     },
     "execution_count": 23,
     "metadata": {},
     "output_type": "execute_result"
    }
   ],
   "source": [
    "df.select(pl.col(\"CRIM\", 'ZN')).head()"
   ]
  },
  {
   "cell_type": "code",
   "execution_count": 24,
   "id": "1c1f89c4-cf31-4af0-baf9-9de81b441f75",
   "metadata": {},
   "outputs": [
    {
     "data": {
      "text/html": [
       "<div><style>\n",
       ".dataframe > thead > tr,\n",
       ".dataframe > tbody > tr {\n",
       "  text-align: right;\n",
       "  white-space: pre-wrap;\n",
       "}\n",
       "</style>\n",
       "<small>shape: (5, 2)</small><table border=\"1\" class=\"dataframe\"><thead><tr><th>CRIM</th><th>ZN</th></tr><tr><td>f64</td><td>str</td></tr></thead><tbody><tr><td>0.00632</td><td>&quot; 18.00&quot;</td></tr><tr><td>0.02731</td><td>&quot; 0.00&quot;</td></tr><tr><td>0.02729</td><td>&quot; 0.00&quot;</td></tr><tr><td>0.03237</td><td>&quot; 0.00&quot;</td></tr><tr><td>0.06905</td><td>&quot; 0.00&quot;</td></tr></tbody></table></div>"
      ],
      "text/plain": [
       "shape: (5, 2)\n",
       "┌─────────┬────────┐\n",
       "│ CRIM    ┆ ZN     │\n",
       "│ ---     ┆ ---    │\n",
       "│ f64     ┆ str    │\n",
       "╞═════════╪════════╡\n",
       "│ 0.00632 ┆  18.00 │\n",
       "│ 0.02731 ┆  0.00  │\n",
       "│ 0.02729 ┆  0.00  │\n",
       "│ 0.03237 ┆  0.00  │\n",
       "│ 0.06905 ┆  0.00  │\n",
       "└─────────┴────────┘"
      ]
     },
     "execution_count": 24,
     "metadata": {},
     "output_type": "execute_result"
    }
   ],
   "source": [
    "df[[\"CRIM\", 'ZN']].head()"
   ]
  },
  {
   "cell_type": "code",
   "execution_count": null,
   "id": "6668e33a-47be-44ab-af79-79fd3386a248",
   "metadata": {},
   "outputs": [],
   "source": []
  }
 ],
 "metadata": {
  "kernelspec": {
   "display_name": "Python 3 (ipykernel)",
   "language": "python",
   "name": "python3"
  },
  "language_info": {
   "codemirror_mode": {
    "name": "ipython",
    "version": 3
   },
   "file_extension": ".py",
   "mimetype": "text/x-python",
   "name": "python",
   "nbconvert_exporter": "python",
   "pygments_lexer": "ipython3",
   "version": "3.11.9"
  }
 },
 "nbformat": 4,
 "nbformat_minor": 5
}
