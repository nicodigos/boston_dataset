{
 "cells": [
  {
   "cell_type": "code",
   "execution_count": 1,
   "id": "644a58e0-431c-4d9a-8203-4354a350f0b8",
   "metadata": {},
   "outputs": [],
   "source": [
    "import pandas as pd\n",
    "import numpy as np\n",
    "import seaborn as sns\n",
    "from matplotlib import pyplot as plt"
   ]
  },
  {
   "cell_type": "markdown",
   "id": "b0ec47a8-6fd0-465d-b6f4-91d4fbdbb8aa",
   "metadata": {},
   "source": [
    "# Chlorophyll-a Concentration Prediction Project\n",
    "\n",
    "## Objective\n",
    "\n",
    "This project aims to predict chlorophyll-a concentrations in seawater using the CalCOFI dataset. Accurate prediction of chlorophyll-a levels will enable fishing companies to identify high-productivity zones, optimizing their operations.\n",
    "\n",
    "## Scope\n",
    "\n",
    "In this project, we will exclusively focus on testing and evaluating the performance of polynomial regression models. This will include:\n",
    "\n",
    "- Data exploration and preparation.\n",
    "- Implementation of polynomial regression with different polynomial degrees.\n",
    "- Use of regularization techniques such as ridge, lasso, and elastic net.\n",
    "- Application of cross-validation and grid search methods to find the best hyperparameters.\n",
    "\n",
    "## Justification\n",
    "\n",
    "The choice of polynomial regression as the main method is due to its ability to capture non-linear relationships between the predictor variables and the target variable (chlorophyll-a concentration). Additionally, using regularization will help prevent overfitting and improve model generalization.\n",
    "\n",
    "## Methodology\n",
    "\n",
    "1. **Exploratory Data Analysis (EDA)**: We will evaluate the distribution of variables, identify and handle missing values, and explore relationships between variables.\n",
    "2. **Data Preparation**: Data cleaning and transformation, creation of polynomial features, and normalization.\n",
    "3. **Model Training**: Training polynomial regression models with different degrees, applying regularization and cross-validation.\n",
    "4. **Model Evaluation**: Assessing model performance using appropriate metrics such as Mean Squared Error (MSE) and R-squared (R²).\n",
    "\n",
    "This systematic approach will allow us to identify the most suitable polynomial regression model for predicting chlorophyll-a concentration, thereby optimizing fishing operations.\n"
   ]
  },
  {
   "cell_type": "markdown",
   "id": "79dd0193-5e1f-45de-a321-0a1621a6e4a7",
   "metadata": {},
   "source": [
    "\n",
    "# Business Case: Optimizing Fishing Operations through Chlorophyll-a Prediction\n",
    "\n",
    "## Objective\n",
    "\n",
    "Develop a predictive model to estimate chlorophyll-a concentrations in seawater to help fishing companies identify high-productivity zones. Accurate predictions of chlorophyll-a levels will enable more efficient allocation of fishing resources, reduce operational costs, and maximize fish yields.\n",
    "\n",
    "## Problem Statement\n",
    "\n",
    "Fishing companies face significant challenges in locating areas with high fish density. Current methods are often time-consuming and costly, leading to inefficiencies and higher operational costs. By predicting chlorophyll-a concentration, which is a key indicator of phytoplankton abundance, companies can better target their fishing efforts.\n",
    "\n",
    "## Data Source\n",
    "\n",
    "The California Cooperative Oceanic Fisheries Investigations (CalCOFI) dataset, which includes comprehensive measurements of oceanographic and environmental variables such as:\n",
    "\n",
    "- Depth (Depthm)\n",
    "- Water temperature (T_degC)\n",
    "- Salinity (Salnty)\n",
    "- Nutrient concentrations (e.g., nitrate NO3uM, phosphate PO4uM, silicate SiO3uM)\n",
    "\n",
    "## Potential Predictors\n",
    "\n",
    "To build a robust predictive model, the following variables could be considered as potential predictors:\n",
    "\n",
    "- Environmental Variables: Depth, water temperature, salinity\n",
    "- Chemical Variables: Concentrations of nitrate, phosphate, silicate, and dissolved oxygen\n",
    "- Geographic and Temporal Variables: Latitude, longitude, time of year (month, season)\n",
    "\n",
    "## Expected Outcome\n",
    "\n",
    "By leveraging this model, fishing companies will be able to:\n",
    "\n",
    "- Identify and prioritize high-yield fishing zones based on predicted chlorophyll-a levels.\n",
    "- Optimize fishing routes and schedules, reducing fuel consumption and operational time.\n",
    "- Increase fish yields by targeting areas with higher biological productivity.\n",
    "- Enhance decision-making processes with data-driven insights into oceanographic conditions.\n",
    "\n",
    "## Impact\n",
    "\n",
    "Implementing this predictive model will lead to:\n",
    "\n",
    "- Cost savings through more efficient resource allocation.\n",
    "- Higher profitability due to increased fish yields.\n",
    "- Reduced environmental impact by minimizing unnecessary fishing efforts.\n"
   ]
  },
  {
   "cell_type": "code",
   "execution_count": 9,
   "id": "db85c6c1-ce0a-4364-b9d5-093d3060974e",
   "metadata": {},
   "outputs": [
    {
     "name": "stderr",
     "output_type": "stream",
     "text": [
      "/tmp/ipykernel_2883/32580813.py:6: DtypeWarning: Columns (47,73) have mixed types. Specify dtype option on import or set low_memory=False.\n",
      "  bottle = pd.read_csv(\"datasets/calcofi/bottle.csv\")\n",
      "/tmp/ipykernel_2883/32580813.py:7: DtypeWarning: Columns (40,41,44,45,46,47) have mixed types. Specify dtype option on import or set low_memory=False.\n",
      "  cast = pd.read_csv(\"datasets/calcofi/cast.csv\")\n"
     ]
    }
   ],
   "source": [
    "# This datasets are not in the repo, you can download it from the kaggle webpage\n",
    "# https://www.kaggle.com/datasets/sohier/calcofi\n",
    "# Also we are going to be working with the variable description provided by the\n",
    "# CalCOFI webpage: https://calcofi.org/data/oceanographic-data/bottle-database/\n",
    "\n",
    "bottle = pd.read_csv(\"datasets/calcofi/bottle.csv\")\n",
    "cast = pd.read_csv(\"datasets/calcofi/cast.csv\")"
   ]
  },
  {
   "cell_type": "markdown",
   "id": "38604ad9-4338-4f2b-857c-ceeee34b737b",
   "metadata": {},
   "source": [
    "------"
   ]
  },
  {
   "cell_type": "markdown",
   "id": "2e7e7d53-a02c-44f7-ad03-a2c5a2b732b9",
   "metadata": {},
   "source": [
    "# Data Exploration\n",
    "\n",
    "In this section, we will explore the dataset to understand its structure, identify missing values, and visualize relationships between variables.\n"
   ]
  },
  {
   "cell_type": "code",
   "execution_count": 10,
   "id": "98edf45d-f56c-4093-b12b-3416b019a40e",
   "metadata": {},
   "outputs": [],
   "source": [
    "# Let's work on a random sample of the dataset\n",
    "# the parameter random_state should be used to get \n",
    "# same results in different executions of the code \n",
    "\n",
    "bottle = bottle.sample(n=10000, random_state=42)"
   ]
  },
  {
   "cell_type": "markdown",
   "id": "019ec619-3155-4a74-9329-85c4a8f8d257",
   "metadata": {},
   "source": [
    "First lets take a quick view over the objective variable "
   ]
  },
  {
   "cell_type": "code",
   "execution_count": 19,
   "id": "1363f3f4-1e61-43d1-94b0-79290cf2fe40",
   "metadata": {},
   "outputs": [
    {
     "name": "stdout",
     "output_type": "stream",
     "text": [
      "\n",
      "\n",
      "\n",
      "#########.info()#############\n",
      "\n",
      "\n",
      "\n",
      "<class 'pandas.core.series.Series'>\n",
      "Index: 10000 entries, 246454 to 893\n",
      "Series name: ChlorA\n",
      "Non-Null Count  Dtype  \n",
      "--------------  -----  \n",
      "2602 non-null   float64\n",
      "dtypes: float64(1)\n",
      "memory usage: 156.2 KB\n",
      "None\n",
      "\n",
      "\n",
      "\n",
      "#########.sample(10)#############\n",
      "\n",
      "\n",
      "\n",
      "841379    0.097\n",
      "799866    0.690\n",
      "550350    0.020\n",
      "722984    0.170\n",
      "519247    0.380\n",
      "615546    0.100\n",
      "834113    0.210\n",
      "799322    1.860\n",
      "526864    0.820\n",
      "785642    2.960\n",
      "Name: ChlorA, dtype: float64\n",
      "\n",
      "\n",
      "\n",
      "#########.describe()#############\n",
      "\n",
      "\n",
      "\n",
      "count    2602.000000\n",
      "mean        0.473914\n",
      "std         1.341153\n",
      "min         0.000000\n",
      "25%         0.050000\n",
      "50%         0.150000\n",
      "75%         0.390000\n",
      "max        22.530000\n",
      "Name: ChlorA, dtype: float64\n"
     ]
    }
   ],
   "source": [
    "print(\"\\n\\n\\n#########.info()#############\\n\\n\\n\")\n",
    "print(bottle[\"ChlorA\"].info())\n",
    "print(\"\\n\\n\\n#########.sample(10)#############\\n\\n\\n\")\n",
    "print(bottle[\"ChlorA\"][bottle[\"ChlorA\"].notna()].sample(10))\n",
    "print(\"\\n\\n\\n#########.describe()#############\\n\\n\\n\")\n",
    "print(bottle[\"ChlorA\"].describe())"
   ]
  },
  {
   "cell_type": "markdown",
   "id": "4628c1fa-914d-4709-a28a-2de6f59f1ee6",
   "metadata": {},
   "source": [
    "1. The variable is numeric, stored in a float64 dtype and has a minimum of 0, maximum of 22.53 and a mean of 0.47. This kind of value is ideal for regression analysis!\n",
    "2. If the mean is 0.47 and the std is 1.34, the maximum of 22,53 is clearly an outlier, we'll check it out later.\n",
    "3. Just 26 percent of the rows contain values, that's a significant ammount of null values in the dataset. Before decide what to do with those null values, we should try to know more about the reason of those nulls."
   ]
  },
  {
   "cell_type": "markdown",
   "id": "c51a4ab8-02f4-4440-9ee4-350d95bef777",
   "metadata": {},
   "source": [
    "Let's start looking at the big picture. We have two datasets: cast and bottle. \n",
    "**What is a bottle?** This is the answer from the CalCOFI website:\n",
    "\n",
    "> **History of CalCOFI Seawater Sample Collection** <br> Prior to 1993, CalCOFI collected seawater samples using Niskin, Nansen, and “Wally” (in-house design by Walt Bryant & George Anderson) bottles with reversing thermometers. In 1990, CalCOFI began using a CTD-Rosette (pictured here underwater), and starting Aug 1993 (9308NH) CTD-Rosette sampling became the primary method of seawater collection. ![Example](https://calcofi.org/wp-content/uploads/2020/03/1904RL_sta93-50_CTDSurface-1024x770.jpg)\n"
   ]
  },
  {
   "cell_type": "markdown",
   "id": "e39759e4-682d-4ce1-b9be-ee23f885f9fa",
   "metadata": {},
   "source": [
    "> - The Cast table contains metadata. This table includes date, time, latitude, longitude, weather, etc. for each CTD cast ever completed on a CalCOFI cruise. Each row is a unique cast, numbered sequentially/indexed by the “Cst_Cnt” column.\n",
    "> - The Bottle table contains oceanographic data. This table includes oceanographic measurements for each bottle/sampling depth ever completed on a CalCOFI cruise. There are additional data code and precision columns describing the quality of each oceanographic measurement. Each row is a unique bottle/sampling depth, numbered sequentially/indexed by the “Btl_Cnt” column.\n",
    "> - This table is much larger than the Cast table because each cast can have up to 24 bottles/sampling depths.\n",
    "> - The Bottle table also has a “Cst_Cnt” column, which can be used as a unifier between the two tables.\n"
   ]
  },
  {
   "cell_type": "markdown",
   "id": "b080bf6f-7c81-4fd1-a119-918f6a57f190",
   "metadata": {},
   "source": [
    "Then cast seems to be the big device in the image which holds the bottles, also see that the bottles are numerated until 24 and then starts over in 1 as the description says. And bottle is each of those bottles in the cast. "
   ]
  },
  {
   "cell_type": "code",
   "execution_count": null,
   "id": "da5dffe2-b409-4a14-a189-f0608496deed",
   "metadata": {},
   "outputs": [],
   "source": []
  }
 ],
 "metadata": {
  "kernelspec": {
   "display_name": "Python 3 (ipykernel)",
   "language": "python",
   "name": "python3"
  },
  "language_info": {
   "codemirror_mode": {
    "name": "ipython",
    "version": 3
   },
   "file_extension": ".py",
   "mimetype": "text/x-python",
   "name": "python",
   "nbconvert_exporter": "python",
   "pygments_lexer": "ipython3",
   "version": "3.11.9"
  }
 },
 "nbformat": 4,
 "nbformat_minor": 5
}
