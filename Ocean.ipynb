{
 "cells": [
  {
   "cell_type": "code",
   "execution_count": 102,
   "id": "644a58e0-431c-4d9a-8203-4354a350f0b8",
   "metadata": {},
   "outputs": [],
   "source": [
    "import pandas as pd\n",
    "import numpy as np\n",
    "import seaborn as sns\n",
    "from matplotlib import pyplot as plt"
   ]
  },
  {
   "cell_type": "markdown",
   "id": "79dd0193-5e1f-45de-a321-0a1621a6e4a7",
   "metadata": {},
   "source": [
    "\n",
    "# Business Case: Optimizing Fishing Operations through Chlorophyll-a Prediction\n",
    "\n",
    "## Objective\n",
    "\n",
    "Develop a predictive model to estimate chlorophyll-a concentrations in seawater to help fishing companies identify high-productivity zones. Accurate predictions of chlorophyll-a levels will enable more efficient allocation of fishing resources, reduce operational costs, and maximize fish yields.\n",
    "\n",
    "## Problem Statement\n",
    "\n",
    "Fishing companies face significant challenges in locating areas with high fish density. Current methods are often time-consuming and costly, leading to inefficiencies and higher operational costs. By predicting chlorophyll-a concentration, which is a key indicator of phytoplankton abundance, companies can better target their fishing efforts.\n",
    "\n",
    "## Data Source\n",
    "\n",
    "The California Cooperative Oceanic Fisheries Investigations (CalCOFI) dataset, which includes comprehensive measurements of oceanographic and environmental variables such as:\n",
    "\n",
    "- Depth (Depthm)\n",
    "- Water temperature (T_degC)\n",
    "- Salinity (Salnty)\n",
    "- Nutrient concentrations (e.g., nitrate NO3uM, phosphate PO4uM, silicate SiO3uM)\n",
    "\n",
    "## Potential Predictors\n",
    "\n",
    "To build a robust predictive model, the following variables could be considered as potential predictors:\n",
    "\n",
    "- Environmental Variables: Depth, water temperature, salinity\n",
    "- Chemical Variables: Concentrations of nitrate, phosphate, silicate, and dissolved oxygen\n",
    "- Geographic and Temporal Variables: Latitude, longitude, time of year (month, season)\n",
    "\n",
    "## Expected Outcome\n",
    "\n",
    "By leveraging this model, fishing companies will be able to:\n",
    "\n",
    "- Identify and prioritize high-yield fishing zones based on predicted chlorophyll-a levels.\n",
    "- Optimize fishing routes and schedules, reducing fuel consumption and operational time.\n",
    "- Increase fish yields by targeting areas with higher biological productivity.\n",
    "- Enhance decision-making processes with data-driven insights into oceanographic conditions.\n",
    "\n",
    "## Impact\n",
    "\n",
    "Implementing this predictive model will lead to:\n",
    "\n",
    "- Cost savings through more efficient resource allocation.\n",
    "- Higher profitability due to increased fish yields.\n",
    "- Reduced environmental impact by minimizing unnecessary fishing efforts.\n"
   ]
  },
  {
   "cell_type": "code",
   "execution_count": 34,
   "id": "db85c6c1-ce0a-4364-b9d5-093d3060974e",
   "metadata": {},
   "outputs": [
    {
     "name": "stderr",
     "output_type": "stream",
     "text": [
      "/tmp/ipykernel_13299/4250220369.py:1: DtypeWarning: Columns (47,73) have mixed types. Specify dtype option on import or set low_memory=False.\n",
      "  bottle = pd.read_csv(\"datasets/bottle.csv\")\n",
      "/tmp/ipykernel_13299/4250220369.py:2: DtypeWarning: Columns (40,41,44,45,46,47) have mixed types. Specify dtype option on import or set low_memory=False.\n",
      "  cast = pd.read_csv(\"datasets/cast.csv\")\n"
     ]
    }
   ],
   "source": [
    "bottle = pd.read_csv(\"datasets/calcofi/bottle.csv\")\n",
    "cast = pd.read_csv(\"datasets/calcofi/cast.csv\")"
   ]
  },
  {
   "cell_type": "code",
   "execution_count": 35,
   "id": "98edf45d-f56c-4093-b12b-3416b019a40e",
   "metadata": {},
   "outputs": [],
   "source": [
    "bottle = bottle.sample(n=10000, random_state=42)"
   ]
  },
  {
   "cell_type": "code",
   "execution_count": null,
   "id": "1363f3f4-1e61-43d1-94b0-79290cf2fe40",
   "metadata": {},
   "outputs": [],
   "source": []
  }
 ],
 "metadata": {
  "kernelspec": {
   "display_name": "Python 3 (ipykernel)",
   "language": "python",
   "name": "python3"
  },
  "language_info": {
   "codemirror_mode": {
    "name": "ipython",
    "version": 3
   },
   "file_extension": ".py",
   "mimetype": "text/x-python",
   "name": "python",
   "nbconvert_exporter": "python",
   "pygments_lexer": "ipython3",
   "version": "3.11.9"
  }
 },
 "nbformat": 4,
 "nbformat_minor": 5
}
